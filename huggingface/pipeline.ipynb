{
 "cells": [
  {
   "cell_type": "markdown",
   "id": "ee34c53e-e3b6-4801-9c1f-49a40f1c53c3",
   "metadata": {},
   "source": [
    "# Pipelines\n",
    "\n",
    "`pipeline` 是使用模型进行推理的一种非常简单的方法。这些 `pipeline` 是从库中抽象出大部分复杂代码的对象，提供专用于多项任务的简单 API，包括命名实体识别、掩码语言建模、情感分析、特征提取和问答。有关使用示例，请参阅任务摘要。 \n",
    "\n",
    "有两类管道抽象需要注意： \n",
    "\n",
    "- pipeline() 是封装所有其他管道的最强大的对象。\n",
    "- 特定于任务的管道可用于音频、计算机视觉、自然语言处理和多模式任务。"
   ]
  },
  {
   "cell_type": "code",
   "execution_count": null,
   "id": "ca650820-9c11-4fdb-a822-c88ec1dc5cb7",
   "metadata": {},
   "outputs": [],
   "source": [
    "# !pip install transformers datasets torch"
   ]
  },
  {
   "cell_type": "code",
   "execution_count": 5,
   "id": "9489c60b-4b08-436e-86c5-864859290937",
   "metadata": {},
   "outputs": [],
   "source": [
    "from transformers import pipeline"
   ]
  },
  {
   "cell_type": "markdown",
   "id": "2a51f258-ff08-4d23-90c8-da185b3889b4",
   "metadata": {},
   "source": [
    "## 简单应用\n",
    "\n",
    "只指定task的identifier, 甚至 `task` 这个参数名都可以省略。常见的 task identifier 详见[这里](https://huggingface.co/docs/transformers/main_classes/pipelines)。\n",
    "\n",
    "![task](img/task.png)"
   ]
  },
  {
   "cell_type": "code",
   "execution_count": null,
   "id": "3213dd7a-852d-4fee-b972-891383c96ebb",
   "metadata": {},
   "outputs": [],
   "source": [
    "classifier = pipeline(task=\"sentiment-analysis\") \n",
    "# classifier = pipeline(\"sentiment-analysis\") 可以缩写成这样最简单的方式。"
   ]
  },
  {
   "cell_type": "code",
   "execution_count": 6,
   "id": "63bfeac5-7769-429b-b4ea-4462fd20aedb",
   "metadata": {},
   "outputs": [
    {
     "data": {
      "text/plain": [
       "[{'label': 'POSITIVE', 'score': 0.9997795224189758}]"
      ]
     },
     "execution_count": 6,
     "metadata": {},
     "output_type": "execute_result"
    }
   ],
   "source": [
    "classifier(\"We are very happy to show you the 🤗 Transformers library.\")"
   ]
  },
  {
   "cell_type": "markdown",
   "id": "695bcf3c-ee74-4957-94c1-5f3dd41001c1",
   "metadata": {},
   "source": [
    "也可以指定模型，可以不写task的identifier。"
   ]
  },
  {
   "cell_type": "code",
   "execution_count": 8,
   "id": "392d23ee-1986-46d1-a189-5a8fc279ca51",
   "metadata": {},
   "outputs": [
    {
     "name": "stdout",
     "output_type": "stream",
     "text": [
      "[[{'label': 'sadness', 'score': 0.0005138218402862549}, {'label': 'joy', 'score': 0.9972521662712097}, {'label': 'love', 'score': 0.0007443306967616081}, {'label': 'anger', 'score': 0.0007404911448247731}, {'label': 'fear', 'score': 0.0003293847548775375}, {'label': 'surprise', 'score': 0.0004197480739094317}]]\n"
     ]
    },
    {
     "name": "stderr",
     "output_type": "stream",
     "text": [
      "/opt/homebrew/lib/python3.10/site-packages/transformers/pipelines/text_classification.py:104: UserWarning: `return_all_scores` is now deprecated,  if want a similar funcionality use `top_k=None` instead of `return_all_scores=True` or `top_k=1` instead of `return_all_scores=False`.\n",
      "  warnings.warn(\n"
     ]
    }
   ],
   "source": [
    "classifier = pipeline(\"text-classification\",model='bhadresh-savani/bert-base-uncased-emotion', return_all_scores=True)\n",
    "prediction = classifier(\"I love using transformers. The best part is wide range of support and its easy to use\", )\n",
    "print(prediction)"
   ]
  },
  {
   "cell_type": "markdown",
   "id": "4418ca1a-801c-41de-b850-2e6a67e87ee4",
   "metadata": {},
   "source": [
    "如果要判断中文语句的情感分析，还是要先使用翻译模型把语句翻译成英文。 这里选择 `Helsinki-NLP/opus-mt-zh-en` 这个模型来进行中译英"
   ]
  },
  {
   "cell_type": "code",
   "execution_count": 14,
   "id": "35002655-0af5-4815-9522-156282c0997f",
   "metadata": {},
   "outputs": [],
   "source": [
    "translator = pipeline(\"translation\", model=\"Helsinki-NLP/opus-mt-zh-en\", max_time=7)"
   ]
  },
  {
   "cell_type": "code",
   "execution_count": 15,
   "id": "977e2c3e-438c-4b7a-9482-f19692272287",
   "metadata": {},
   "outputs": [
    {
     "name": "stdout",
     "output_type": "stream",
     "text": [
      "After a simple inside-of-site search, I found the following three models and, in order to verify their effects, I wrote a more unwieldy test to test them.\n"
     ]
    }
   ],
   "source": [
    "# 测试一下效果\n",
    "prediction = translator(\"经过简单的站内搜索，我找到了下面三个模型，为了验证模型效果，我写了一句比较无厘头的测试内容，对这些模型进行测试。\", )[0][\"translation_text\"]\n",
    "print(prediction)"
   ]
  },
  {
   "cell_type": "markdown",
   "id": "1aa5dbe7-6926-499c-ac73-da52eb48f111",
   "metadata": {},
   "source": [
    "### 中文语句情感测试"
   ]
  },
  {
   "cell_type": "code",
   "execution_count": 18,
   "id": "0feac448-b5c8-47bc-8ddf-b5c3a8a25d60",
   "metadata": {},
   "outputs": [
    {
     "name": "stdout",
     "output_type": "stream",
     "text": [
      "That's it, Iron.\n"
     ]
    }
   ],
   "source": [
    "translator = pipeline(\"translation\", model=\"Helsinki-NLP/opus-mt-zh-en\")\n",
    "eng_result = translator(\"扎心了，老铁\", )[0][\"translation_text\"]\n",
    "print(eng_result)"
   ]
  },
  {
   "cell_type": "code",
   "execution_count": 19,
   "id": "14256243-794a-40ed-bcb8-35960b293a40",
   "metadata": {},
   "outputs": [
    {
     "name": "stdout",
     "output_type": "stream",
     "text": [
      "[{'label': 'anger', 'score': 0.47998687624931335}]\n"
     ]
    }
   ],
   "source": [
    "classifier = pipeline(\"text-classification\",model='bhadresh-savani/bert-base-uncased-emotion')\n",
    "prediction = classifier(eng_result)\n",
    "print(prediction)"
   ]
  },
  {
   "cell_type": "markdown",
   "id": "9ce51617-ce41-4af8-a56e-be66d5b6de43",
   "metadata": {},
   "source": [
    "## handle French text"
   ]
  },
  {
   "cell_type": "code",
   "execution_count": 1,
   "id": "18aba63e-82c9-482b-9c65-c71a568488ad",
   "metadata": {},
   "outputs": [],
   "source": [
    "model_name = \"nlptown/bert-base-multilingual-uncased-sentiment\""
   ]
  },
  {
   "cell_type": "code",
   "execution_count": 3,
   "id": "55acb8bc-e70e-46d4-b1f5-b7694c6dd7e2",
   "metadata": {},
   "outputs": [
    {
     "data": {
      "application/vnd.jupyter.widget-view+json": {
       "model_id": "ca4a58b241ef415a9c911004e37d3c76",
       "version_major": 2,
       "version_minor": 0
      },
      "text/plain": [
       "Downloading (…)lve/main/config.json:   0%|          | 0.00/953 [00:00<?, ?B/s]"
      ]
     },
     "metadata": {},
     "output_type": "display_data"
    },
    {
     "data": {
      "application/vnd.jupyter.widget-view+json": {
       "model_id": "8ce54cbb774f451fa74769fa604871fb",
       "version_major": 2,
       "version_minor": 0
      },
      "text/plain": [
       "Downloading pytorch_model.bin:   0%|          | 0.00/669M [00:00<?, ?B/s]"
      ]
     },
     "metadata": {},
     "output_type": "display_data"
    },
    {
     "data": {
      "application/vnd.jupyter.widget-view+json": {
       "model_id": "1f2b98311fec4a86b341575302c98bce",
       "version_major": 2,
       "version_minor": 0
      },
      "text/plain": [
       "Downloading (…)okenizer_config.json:   0%|          | 0.00/39.0 [00:00<?, ?B/s]"
      ]
     },
     "metadata": {},
     "output_type": "display_data"
    },
    {
     "data": {
      "application/vnd.jupyter.widget-view+json": {
       "model_id": "7153287a37bd46268b67cb1c73755dad",
       "version_major": 2,
       "version_minor": 0
      },
      "text/plain": [
       "Downloading (…)solve/main/vocab.txt:   0%|          | 0.00/872k [00:00<?, ?B/s]"
      ]
     },
     "metadata": {},
     "output_type": "display_data"
    },
    {
     "data": {
      "application/vnd.jupyter.widget-view+json": {
       "model_id": "4fcc2df6dddb4dcd81416383e6a5e862",
       "version_major": 2,
       "version_minor": 0
      },
      "text/plain": [
       "Downloading (…)cial_tokens_map.json:   0%|          | 0.00/112 [00:00<?, ?B/s]"
      ]
     },
     "metadata": {},
     "output_type": "display_data"
    }
   ],
   "source": [
    "from transformers import AutoTokenizer, AutoModelForSequenceClassification\n",
    "model = AutoModelForSequenceClassification.from_pretrained(model_name)\n",
    "tokenizer = AutoTokenizer.from_pretrained(model_name)"
   ]
  },
  {
   "cell_type": "code",
   "execution_count": 6,
   "id": "e0db9c8d-1c43-473c-9165-ae330f621824",
   "metadata": {},
   "outputs": [
    {
     "name": "stderr",
     "output_type": "stream",
     "text": [
      "Xformers is not installed correctly. If you want to use memory_efficient_attention to accelerate training use the following command to install Xformers\n",
      "pip install xformers.\n"
     ]
    },
    {
     "data": {
      "text/plain": [
       "[{'label': '5 stars', 'score': 0.7272654175758362}]"
      ]
     },
     "execution_count": 6,
     "metadata": {},
     "output_type": "execute_result"
    }
   ],
   "source": [
    "classifier = pipeline(\"sentiment-analysis\", model=model, tokenizer=tokenizer)\n",
    "classifier(\"Nous sommes très heureux de vous présenter la bibliothèque 🤗 Transformers.\")"
   ]
  },
  {
   "cell_type": "code",
   "execution_count": null,
   "id": "7f751178-6fbf-4db2-8de1-38e29b074a59",
   "metadata": {},
   "outputs": [],
   "source": []
  }
 ],
 "metadata": {
  "kernelspec": {
   "display_name": "Python 3 (ipykernel)",
   "language": "python",
   "name": "python3"
  },
  "language_info": {
   "codemirror_mode": {
    "name": "ipython",
    "version": 3
   },
   "file_extension": ".py",
   "mimetype": "text/x-python",
   "name": "python",
   "nbconvert_exporter": "python",
   "pygments_lexer": "ipython3",
   "version": "3.10.12"
  }
 },
 "nbformat": 4,
 "nbformat_minor": 5
}
