{
 "cells": [
  {
   "cell_type": "markdown",
   "id": "e515b58c-8afc-4098-95a6-3c0b1ddb5d3d",
   "metadata": {},
   "source": [
    "# 企业AIGC商业落地应用研究报告分析"
   ]
  },
  {
   "cell_type": "markdown",
   "id": "a4c11a23-9085-495d-8307-1081233b5868",
   "metadata": {},
   "source": [
    "## 加载报告"
   ]
  },
  {
   "cell_type": "code",
   "execution_count": 2,
   "id": "62d30a1c-9840-440c-b268-4b73bbf743b4",
   "metadata": {},
   "outputs": [],
   "source": [
    "from langchain.document_loaders import PyPDFLoader\n",
    "loader = PyPDFLoader(\"data/report.pdf\") # 57 pages pdf document"
   ]
  },
  {
   "cell_type": "markdown",
   "id": "a1787839-18c5-4289-999a-ef2d4f2c9894",
   "metadata": {},
   "source": [
    "## 使用 VectorstoreIndexCreator"
   ]
  },
  {
   "cell_type": "code",
   "execution_count": 13,
   "id": "4fc3533c-ec0c-433c-9ba3-e2084e86d50f",
   "metadata": {},
   "outputs": [
    {
     "name": "stdout",
     "output_type": "stream",
     "text": [
      "\n",
      "\n",
      "\u001b[1m> Entering new RetrievalQA chain...\u001b[0m\n",
      "\n",
      "\u001b[1m> Finished chain.\u001b[0m\n"
     ]
    },
    {
     "data": {
      "text/plain": [
       "'根据提供的上下文，AIGC可以应用在十三个热门场景中，其中包括营销场景。在营销场景中，AIGC可以支持性能分析和报告，帮助企业优化营销过程。此外，上下文还提到AIGC在部分场景能够起到作用，但目前仅限于极少部分零星的应用，因此具体应用场景需要根据企业的具体情况来确定。'"
      ]
     },
     "execution_count": 13,
     "metadata": {},
     "output_type": "execute_result"
    }
   ],
   "source": [
    "from langchain.chat_models import ChatOpenAI\n",
    "from langchain.indexes import VectorstoreIndexCreator\n",
    "from langchain.embeddings import OpenAIEmbeddings\n",
    "from langchain.text_splitter import CharacterTextSplitter\n",
    "from langchain.vectorstores import Chroma\n",
    "\n",
    "result=[]\n",
    "\n",
    "index = VectorstoreIndexCreator(\n",
    "    text_splitter = CharacterTextSplitter(chunk_size=1000, chunk_overlap=0),\n",
    "    embedding = OpenAIEmbeddings(),\n",
    "    vectorstore_cls=Chroma,\n",
    "    vectorstore_kwargs={\"k\":2} # defined k as 2 meaning that we are only interested in getting two relevant text chunks.\n",
    ").from_loaders([loader])\n",
    "query = \"AIGC可以应用在企业里哪些场景？\"\n",
    "index.query(llm=ChatOpenAI(temperature=0.0), question=query, chain_type=\"stuff\", verbose=True)"
   ]
  },
  {
   "cell_type": "markdown",
   "id": "796bd91c-e28e-4cf0-b283-9879874bcab4",
   "metadata": {},
   "source": [
    "## 使用 RetrievalQA"
   ]
  },
  {
   "cell_type": "code",
   "execution_count": 16,
   "id": "712b194e-31e8-476f-ad39-89513126eb80",
   "metadata": {},
   "outputs": [
    {
     "name": "stdout",
     "output_type": "stream",
     "text": [
      "\n",
      "\n",
      "\u001b[1m> Entering new RetrievalQA chain...\u001b[0m\n",
      "\n",
      "\u001b[1m> Finished chain.\u001b[0m\n"
     ]
    }
   ],
   "source": [
    "from langchain.chains import RetrievalQA\n",
    "\n",
    "# split the documents into chunks\n",
    "text_splitter = CharacterTextSplitter(chunk_size=1000, chunk_overlap=0)\n",
    "texts = text_splitter.split_documents(loader.load())\n",
    "# select which embeddings we want to use\n",
    "embeddings = OpenAIEmbeddings()\n",
    "# create the vectorestore to use as the index\n",
    "db = Chroma.from_documents(texts, embeddings)\n",
    "# expose this index in a retriever interface\n",
    "retriever = db.as_retriever(search_type=\"similarity\", search_kwargs={\"k\":2}) # defined k as 2 meaning that we are only interested in getting two relevant text chunks.\n",
    "# create a chain to answer questions \n",
    "qa = RetrievalQA.from_chain_type(\n",
    "    llm=ChatOpenAI(temperature=0.0), chain_type=\"stuff\", retriever=retriever, return_source_documents=True, verbose=True)\n",
    "query = \"AIGC可以应用在企业里哪些场景？\"\n",
    "result = qa({\"query\": query})"
   ]
  },
  {
   "cell_type": "code",
   "execution_count": 17,
   "id": "0af04b31-b099-41c5-8f57-5b99e0394e7f",
   "metadata": {},
   "outputs": [
    {
     "data": {
      "text/plain": [
       "{'query': 'AIGC可以应用在企业里哪些场景？',\n",
       " 'result': '根据提供的上下文，AIGC可以应用在企业的营销场景中，支持性能分析和报告，以及小范围业务与应用程序实施的具体业务动作。具体来说，AIGC可以在营销过程中支持性能分析和报告，帮助企业了解营销活动的效果和质量。此外，AIGC还可以在小范围尝试中支持业务与应用程序实施，以帮助企业更好地实现业务目标。',\n",
       " 'source_documents': [Document(page_content='所以，企业信息化建设掌舵者接受 AIGC的潜在业务影响能力并做出举措\\n能够深度影响大量企业场\\n景的作业模式在部场景能够起到作用目前还仅限于极少部分零\\n星的应用暂时难以判断对企业服务\\n的影响在后端应用程序实施部分能力渗透在前端应用程序实施部分能力渗透质量与效果保障和现场测试需求定义具体业务内容支持 ，例如营销过程\\n中支持性能分析和报告小范围业务与应用程序实施已经尝试的具体业务动作\\n小范围尝试\\n性能分析需求定义', metadata={'source': 'data/report.pdf', 'page': 17}),\n",
       "  Document(page_content='应用场景示例：营销场景 AIGC 应用企业概览\\nsource：TE企服指数，数据截至 2023年5月 更多详细数据请关注： https://aigc.iyiou.com/aigc/companylist\\nWPS智能写作\\n酷家乐\\nAlivia\\n有连云\\n视觉中国加马平台\\nAzero -\\n壹元系统\\n竹间智能\\n营销场景\\n AIGC\\n 应用企业星锐象限\\n 营销场景\\n AIGC\\n 应用企业榜单', metadata={'source': 'data/report.pdf', 'page': 36})]}"
      ]
     },
     "execution_count": 17,
     "metadata": {},
     "output_type": "execute_result"
    }
   ],
   "source": [
    "result"
   ]
  },
  {
   "cell_type": "code",
   "execution_count": null,
   "id": "4dafe38d-28ca-4f79-8ca3-b586167f05b7",
   "metadata": {},
   "outputs": [],
   "source": []
  }
 ],
 "metadata": {
  "kernelspec": {
   "display_name": "Python 3 (ipykernel)",
   "language": "python",
   "name": "python3"
  },
  "language_info": {
   "codemirror_mode": {
    "name": "ipython",
    "version": 3
   },
   "file_extension": ".py",
   "mimetype": "text/x-python",
   "name": "python",
   "nbconvert_exporter": "python",
   "pygments_lexer": "ipython3",
   "version": "3.10.12"
  }
 },
 "nbformat": 4,
 "nbformat_minor": 5
}
