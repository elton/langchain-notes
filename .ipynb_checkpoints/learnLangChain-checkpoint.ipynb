{
 "cells": [
  {
   "cell_type": "markdown",
   "id": "c33e3739-3854-468a-9bc4-19f966351843",
   "metadata": {},
   "source": [
    "# [LangChain](https://langchain.com/)\n",
    "\n",
    "- opensource development framework for LLM applications\n",
    "- Python and Javascript(TypeScript) packages\n",
    "\n",
    "## Components\n",
    "- Models\n",
    "  * LLM: 20+ integrations\n",
    "  * Chat Models\n",
    "  * Text Embedding Models: 10+ integrations\n",
    "- Prompts\n",
    "  * Prompt templates\n",
    "  * Output parsers: 5+ implementations\n",
    "  * Example Selectors: 5+ implementations\n",
    "- Indexes\n",
    "  * Document loaders: 50+ implementations\n",
    "  * Text Splitters: 10+\n",
    "  * Vector stores:10+\n",
    "  * Retrievers: 5+"
   ]
  },
  {
   "cell_type": "code",
   "execution_count": null,
   "id": "9c7ab056-d611-45b8-aa9d-f84236a4bbf3",
   "metadata": {},
   "outputs": [],
   "source": []
  }
 ],
 "metadata": {
  "kernelspec": {
   "display_name": "Python 3 (ipykernel)",
   "language": "python",
   "name": "python3"
  },
  "language_info": {
   "codemirror_mode": {
    "name": "ipython",
    "version": 3
   },
   "file_extension": ".py",
   "mimetype": "text/x-python",
   "name": "python",
   "nbconvert_exporter": "python",
   "pygments_lexer": "ipython3",
   "version": "3.10.11"
  }
 },
 "nbformat": 4,
 "nbformat_minor": 5
}
