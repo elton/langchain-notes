{
 "cells": [
  {
   "cell_type": "markdown",
   "id": "96ccfd61-88d4-43d1-a805-957be0b0fb1c",
   "metadata": {},
   "source": [
    "# ChatGPT communicates with PDF"
   ]
  },
  {
   "cell_type": "code",
   "execution_count": 1,
   "id": "918e2282-0b9a-4740-8fb2-33e81fa92ce5",
   "metadata": {},
   "outputs": [],
   "source": [
    "# !pip install pypdf2 faiss-cpu -U\n",
    "\n",
    "# with CUDA\n",
    "# !pip install pypdf2 faiss -U"
   ]
  },
  {
   "cell_type": "markdown",
   "id": "b7d81cf6-a132-4bc5-a1e6-e4e945e8b812",
   "metadata": {},
   "source": [
    "## 导入依赖包"
   ]
  },
  {
   "cell_type": "code",
   "execution_count": 23,
   "id": "f627b5d3-c692-4502-b499-cf973372b868",
   "metadata": {},
   "outputs": [],
   "source": [
    "from PyPDF2 import PdfReader\n",
    "from langchain.embeddings.openai import OpenAIEmbeddings\n",
    "from langchain.text_splitter import CharacterTextSplitter\n",
    "from langchain.vectorstores import FAISS\n",
    "from langchain.chains.question_answering import load_qa_chain\n",
    "from langchain.chat_models import ChatOpenAI"
   ]
  },
  {
   "cell_type": "markdown",
   "id": "b4580a96-9d15-4880-be60-34a75f254d10",
   "metadata": {},
   "source": [
    "## 加载PDF并提取文本"
   ]
  },
  {
   "cell_type": "code",
   "execution_count": 24,
   "id": "af7bd84c-9570-4e3e-ab7a-935d51cb2876",
   "metadata": {},
   "outputs": [],
   "source": [
    "reader = PdfReader('data/report.pdf')\n",
    "\n",
    "raw_text = ''\n",
    "for i, page in enumerate(reader.pages):\n",
    "    text = page.extract_text()\n",
    "    if text:\n",
    "        raw_text += text"
   ]
  },
  {
   "cell_type": "markdown",
   "id": "dbf466ed-4a6d-4fdd-93a1-6a6b01ff1588",
   "metadata": {},
   "source": [
    "## 将文本拆分为块(chunk)\n",
    "\n",
    "便于更高效的处理文本，将提取出来的文本拆分成更小的，更易于管理的块。"
   ]
  },
  {
   "cell_type": "code",
   "execution_count": 25,
   "id": "1165b338-c2f8-48e2-aefe-5dfeb824ce2f",
   "metadata": {},
   "outputs": [],
   "source": [
    "text_splitter = CharacterTextSplitter(\n",
    "    separator=\"\\n\",\n",
    "    chunk_size=1000,\n",
    "    chunk_overlap=200,\n",
    "    length_function=len\n",
    ")\n",
    "\n",
    "texts = text_splitter.split_text(raw_text)"
   ]
  },
  {
   "cell_type": "markdown",
   "id": "aad79191-c1a4-4533-bb00-fb6f68323d06",
   "metadata": {},
   "source": [
    "## 生成embeddings\n",
    "\n",
    "文本嵌入，用于捕获文本的语义，便于后期找出跟prompt用户提问相关的内容。"
   ]
  },
  {
   "cell_type": "code",
   "execution_count": 26,
   "id": "69cdec52-ea39-4cda-982d-d4a7772b3d9c",
   "metadata": {},
   "outputs": [],
   "source": [
    "embeddings = OpenAIEmbeddings()"
   ]
  },
  {
   "cell_type": "markdown",
   "id": "ec249597-c412-4fa4-b8c5-7f8915e528bc",
   "metadata": {},
   "source": [
    "## 创建矢量搜索索引\n",
    "\n",
    "为了实现高效的搜索，使用FAISS库来创建向量搜索索引。"
   ]
  },
  {
   "cell_type": "code",
   "execution_count": 27,
   "id": "1d0b881e-ff98-4228-9788-ad8bec5c869a",
   "metadata": {},
   "outputs": [],
   "source": [
    "index = FAISS.from_texts(texts, embeddings)"
   ]
  },
  {
   "cell_type": "markdown",
   "id": "0e62ef73-5d6a-4914-840a-b96cc3054c54",
   "metadata": {},
   "source": [
    "## 加载问答链"
   ]
  },
  {
   "cell_type": "code",
   "execution_count": 28,
   "id": "c21f9c7b-d0d0-4fe7-82a9-be700f741eee",
   "metadata": {},
   "outputs": [],
   "source": [
    "chain = load_qa_chain(ChatOpenAI(temperature=0.0), chain_type=\"stuff\")"
   ]
  },
  {
   "cell_type": "markdown",
   "id": "feb6e63f-5cfc-4470-8336-2d26553223b1",
   "metadata": {},
   "source": [
    "## 与PDF阅读器互动"
   ]
  },
  {
   "cell_type": "code",
   "execution_count": 29,
   "id": "0023939c-af6a-4163-b428-30bed83b4241",
   "metadata": {},
   "outputs": [
    {
     "name": "stdout",
     "output_type": "stream",
     "text": [
      "AIGC在营销方面可以起到多种作用，包括但不限于：\n",
      "\n",
      "1. 创意参考生成：AIGC可以自动生成广告创意和投放优化参考，包括广告设计、广告内容、投放渠道策略和投放分析，从而提高广告效果和投放效率。\n",
      "\n",
      "2. 线索运营评估与优化：AIGC可以快速生成线索评估与优化策略，帮助企业提高线索质量和\n"
     ]
    }
   ],
   "source": [
    "query = \"AIGC如何在营销方面起到作用？\"\n",
    "docs = index.similarity_search(query)\n",
    "response = chain.run(input_documents=docs, question=query)\n",
    "print(response)"
   ]
  },
  {
   "cell_type": "code",
   "execution_count": null,
   "id": "d8e996a6-8234-4eb1-9f52-9ec40e15e999",
   "metadata": {},
   "outputs": [],
   "source": []
  }
 ],
 "metadata": {
  "kernelspec": {
   "display_name": "Python 3 (ipykernel)",
   "language": "python",
   "name": "python3"
  },
  "language_info": {
   "codemirror_mode": {
    "name": "ipython",
    "version": 3
   },
   "file_extension": ".py",
   "mimetype": "text/x-python",
   "name": "python",
   "nbconvert_exporter": "python",
   "pygments_lexer": "ipython3",
   "version": "3.10.12"
  }
 },
 "nbformat": 4,
 "nbformat_minor": 5
}
